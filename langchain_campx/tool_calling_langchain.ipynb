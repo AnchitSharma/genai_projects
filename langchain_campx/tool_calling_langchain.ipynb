{
 "cells": [
  {
   "cell_type": "code",
   "execution_count": 1,
   "metadata": {},
   "outputs": [],
   "source": [
    "from langchain_ollama import ChatOllama\n",
    "from langchain_core.tools import tool\n",
    "from langchain_core.messages import HumanMessage\n",
    "import requests\n"
   ]
  },
  {
   "cell_type": "code",
   "execution_count": 2,
   "metadata": {},
   "outputs": [],
   "source": [
    "# tool create \n",
    "\n",
    "@tool\n",
    "def multiply(a: int, b:int) -> int:\n",
    "    \"\"\"Given 2 numbers a and b this tool return their product\"\"\"\n",
    "    return a * b\n"
   ]
  },
  {
   "cell_type": "code",
   "execution_count": 3,
   "metadata": {},
   "outputs": [
    {
     "name": "stdout",
     "output_type": "stream",
     "text": [
      "12\n"
     ]
    }
   ],
   "source": [
    "print(multiply.invoke({'a':3, 'b':4}))"
   ]
  },
  {
   "cell_type": "code",
   "execution_count": 4,
   "metadata": {},
   "outputs": [
    {
     "data": {
      "text/plain": [
       "'multiply'"
      ]
     },
     "execution_count": 4,
     "metadata": {},
     "output_type": "execute_result"
    }
   ],
   "source": [
    "multiply.name"
   ]
  },
  {
   "cell_type": "code",
   "execution_count": 5,
   "metadata": {},
   "outputs": [
    {
     "data": {
      "text/plain": [
       "{'a': {'title': 'A', 'type': 'integer'},\n",
       " 'b': {'title': 'B', 'type': 'integer'}}"
      ]
     },
     "execution_count": 5,
     "metadata": {},
     "output_type": "execute_result"
    }
   ],
   "source": [
    "multiply.args"
   ]
  },
  {
   "cell_type": "code",
   "execution_count": 6,
   "metadata": {},
   "outputs": [
    {
     "data": {
      "text/plain": [
       "'Given 2 numbers a and b this tool return their product'"
      ]
     },
     "execution_count": 6,
     "metadata": {},
     "output_type": "execute_result"
    }
   ],
   "source": [
    "multiply.description"
   ]
  },
  {
   "cell_type": "code",
   "execution_count": 10,
   "metadata": {},
   "outputs": [],
   "source": [
    "MODEL = \"qwen3\"\n",
    "llm = ChatOllama(\n",
    "    model = MODEL\n",
    ")"
   ]
  },
  {
   "cell_type": "code",
   "execution_count": 11,
   "metadata": {},
   "outputs": [],
   "source": [
    "llm_with_tools = llm.bind_tools([multiply])"
   ]
  },
  {
   "cell_type": "code",
   "execution_count": 12,
   "metadata": {},
   "outputs": [
    {
     "data": {
      "text/plain": [
       "AIMessage(content='<think>\\nOkay, the user said, \"Hi How are you?\" I need to respond appropriately. Let me check if there\\'s any function I should use here. The available tool is the multiply function, which takes two integers and returns their product. But the user\\'s message is just a greeting. They didn\\'t ask for any calculation or use the multiply function. So, there\\'s no need to call the multiply tool here. I should just reply with a friendly greeting. Let me make sure I\\'m not missing any hidden request in their message. Nope, it\\'s straightforward. Alright, respond normally.\\n</think>\\n\\nHello! I\\'m just a tool, but I\\'m here and ready to help. How can I assist you today? 😊', additional_kwargs={}, response_metadata={'model': 'qwen3', 'created_at': '2025-10-05T05:46:13.2540307Z', 'done': True, 'done_reason': 'stop', 'total_duration': 24691580900, 'load_duration': 124480400, 'prompt_eval_count': 158, 'prompt_eval_duration': 799415400, 'eval_count': 150, 'eval_duration': 23765989600, 'model_name': 'qwen3'}, id='run--83ce72e5-e867-40b5-ac6e-c5523962774a-0', usage_metadata={'input_tokens': 158, 'output_tokens': 150, 'total_tokens': 308})"
      ]
     },
     "execution_count": 12,
     "metadata": {},
     "output_type": "execute_result"
    }
   ],
   "source": [
    "llm_with_tools.invoke(\"Hi How are you ?\")"
   ]
  },
  {
   "cell_type": "code",
   "execution_count": 18,
   "metadata": {},
   "outputs": [
    {
     "data": {
      "text/plain": [
       "[HumanMessage(content='can you multiply 3 with 10', additional_kwargs={}, response_metadata={})]"
      ]
     },
     "execution_count": 18,
     "metadata": {},
     "output_type": "execute_result"
    }
   ],
   "source": [
    "query = \"can you multiply 3 with 10\"\n",
    "messages = [HumanMessage(query)]\n",
    "messages"
   ]
  },
  {
   "cell_type": "code",
   "execution_count": 19,
   "metadata": {},
   "outputs": [],
   "source": [
    "response = llm_with_tools.invoke(messages)"
   ]
  },
  {
   "cell_type": "code",
   "execution_count": 20,
   "metadata": {},
   "outputs": [],
   "source": [
    "messages.append(response)"
   ]
  },
  {
   "cell_type": "code",
   "execution_count": 21,
   "metadata": {},
   "outputs": [
    {
     "data": {
      "text/plain": [
       "[HumanMessage(content='can you multiply 3 with 10', additional_kwargs={}, response_metadata={}),\n",
       " AIMessage(content=\"<think>\\nOkay, the user is asking to multiply 3 by 10. Let me check the tools available. There's a function called multiply that takes two integers, a and b. The parameters are required, so I need to use that function. The arguments should be a=3 and b=10. I'll format the tool call accordingly.\\n</think>\\n\\n\", additional_kwargs={}, response_metadata={'model': 'qwen3', 'created_at': '2025-10-05T06:09:04.9224083Z', 'done': True, 'done_reason': 'stop', 'total_duration': 37014704600, 'load_duration': 5692912400, 'prompt_eval_count': 162, 'prompt_eval_duration': 13670344100, 'eval_count': 101, 'eval_duration': 17649538000, 'model_name': 'qwen3'}, id='run--24ed941e-a401-45c2-9b02-08d39dba69c4-0', tool_calls=[{'name': 'multiply', 'args': {'a': 3, 'b': 10}, 'id': '186efce2-ba98-4ce8-aa05-d6e4592b5b01', 'type': 'tool_call'}], usage_metadata={'input_tokens': 162, 'output_tokens': 101, 'total_tokens': 263})]"
      ]
     },
     "execution_count": 21,
     "metadata": {},
     "output_type": "execute_result"
    }
   ],
   "source": [
    "messages"
   ]
  },
  {
   "cell_type": "code",
   "execution_count": 15,
   "metadata": {},
   "outputs": [
    {
     "data": {
      "text/plain": [
       "{'name': 'multiply',\n",
       " 'args': {'a': 3, 'b': 10},\n",
       " 'id': 'e81c6b96-4674-4a65-8888-8d7e51c186af',\n",
       " 'type': 'tool_call'}"
      ]
     },
     "execution_count": 15,
     "metadata": {},
     "output_type": "execute_result"
    }
   ],
   "source": [
    "response.tool_calls[0]"
   ]
  },
  {
   "cell_type": "code",
   "execution_count": 22,
   "metadata": {},
   "outputs": [],
   "source": [
    "tool_result = multiply.invoke(response.tool_calls[0])"
   ]
  },
  {
   "cell_type": "code",
   "execution_count": 23,
   "metadata": {},
   "outputs": [
    {
     "data": {
      "text/plain": [
       "[HumanMessage(content='can you multiply 3 with 10', additional_kwargs={}, response_metadata={}),\n",
       " AIMessage(content=\"<think>\\nOkay, the user is asking to multiply 3 by 10. Let me check the tools available. There's a function called multiply that takes two integers, a and b. The parameters are required, so I need to use that function. The arguments should be a=3 and b=10. I'll format the tool call accordingly.\\n</think>\\n\\n\", additional_kwargs={}, response_metadata={'model': 'qwen3', 'created_at': '2025-10-05T06:09:04.9224083Z', 'done': True, 'done_reason': 'stop', 'total_duration': 37014704600, 'load_duration': 5692912400, 'prompt_eval_count': 162, 'prompt_eval_duration': 13670344100, 'eval_count': 101, 'eval_duration': 17649538000, 'model_name': 'qwen3'}, id='run--24ed941e-a401-45c2-9b02-08d39dba69c4-0', tool_calls=[{'name': 'multiply', 'args': {'a': 3, 'b': 10}, 'id': '186efce2-ba98-4ce8-aa05-d6e4592b5b01', 'type': 'tool_call'}], usage_metadata={'input_tokens': 162, 'output_tokens': 101, 'total_tokens': 263}),\n",
       " ToolMessage(content='30', name='multiply', tool_call_id='186efce2-ba98-4ce8-aa05-d6e4592b5b01')]"
      ]
     },
     "execution_count": 23,
     "metadata": {},
     "output_type": "execute_result"
    }
   ],
   "source": [
    "messages.append(tool_result)\n",
    "messages"
   ]
  },
  {
   "cell_type": "code",
   "execution_count": 24,
   "metadata": {},
   "outputs": [
    {
     "data": {
      "text/plain": [
       "AIMessage(content='<think>\\n</think>\\n\\nThe product of 3 and 10 is 30.', additional_kwargs={}, response_metadata={'model': 'qwen3', 'created_at': '2025-10-05T06:10:34.9151033Z', 'done': True, 'done_reason': 'stop', 'total_duration': 5622414900, 'load_duration': 106858100, 'prompt_eval_count': 253, 'prompt_eval_duration': 1477977600, 'eval_count': 19, 'eval_duration': 4000298600, 'model_name': 'qwen3'}, id='run--27964ce0-b5ff-4965-817f-6ef0787fc5dd-0', usage_metadata={'input_tokens': 253, 'output_tokens': 19, 'total_tokens': 272})"
      ]
     },
     "execution_count": 24,
     "metadata": {},
     "output_type": "execute_result"
    }
   ],
   "source": [
    "llm_with_tools.invoke(messages)"
   ]
  },
  {
   "cell_type": "code",
   "execution_count": null,
   "metadata": {},
   "outputs": [],
   "source": []
  }
 ],
 "metadata": {
  "kernelspec": {
   "display_name": "genai_projects",
   "language": "python",
   "name": "python3"
  },
  "language_info": {
   "codemirror_mode": {
    "name": "ipython",
    "version": 3
   },
   "file_extension": ".py",
   "mimetype": "text/x-python",
   "name": "python",
   "nbconvert_exporter": "python",
   "pygments_lexer": "ipython3",
   "version": "3.11.13"
  }
 },
 "nbformat": 4,
 "nbformat_minor": 2
}
