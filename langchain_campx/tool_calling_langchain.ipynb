{
 "cells": [
  {
   "cell_type": "code",
   "execution_count": 1,
   "metadata": {},
   "outputs": [],
   "source": [
    "from langchain_ollama import ChatOllama\n",
    "from langchain_core.tools import tool\n",
    "from langchain_core.messages import HumanMessage\n",
    "import requests\n"
   ]
  },
  {
   "cell_type": "code",
   "execution_count": 2,
   "metadata": {},
   "outputs": [],
   "source": [
    "# tool create \n",
    "\n",
    "@tool\n",
    "def multiply(a: int, b:int) -> int:\n",
    "    \"\"\"Given 2 numbers a and b this tool return their product\"\"\"\n",
    "    return a * b\n"
   ]
  },
  {
   "cell_type": "code",
   "execution_count": 3,
   "metadata": {},
   "outputs": [
    {
     "name": "stdout",
     "output_type": "stream",
     "text": [
      "12\n"
     ]
    }
   ],
   "source": [
    "print(multiply.invoke({'a':3, 'b':4}))"
   ]
  },
  {
   "cell_type": "code",
   "execution_count": 4,
   "metadata": {},
   "outputs": [
    {
     "data": {
      "text/plain": [
       "'multiply'"
      ]
     },
     "execution_count": 4,
     "metadata": {},
     "output_type": "execute_result"
    }
   ],
   "source": [
    "multiply.name"
   ]
  },
  {
   "cell_type": "code",
   "execution_count": 5,
   "metadata": {},
   "outputs": [
    {
     "data": {
      "text/plain": [
       "{'a': {'title': 'A', 'type': 'integer'},\n",
       " 'b': {'title': 'B', 'type': 'integer'}}"
      ]
     },
     "execution_count": 5,
     "metadata": {},
     "output_type": "execute_result"
    }
   ],
   "source": [
    "multiply.args"
   ]
  },
  {
   "cell_type": "code",
   "execution_count": 6,
   "metadata": {},
   "outputs": [
    {
     "data": {
      "text/plain": [
       "'Given 2 numbers a and b this tool return their product'"
      ]
     },
     "execution_count": 6,
     "metadata": {},
     "output_type": "execute_result"
    }
   ],
   "source": [
    "multiply.description"
   ]
  },
  {
   "cell_type": "code",
   "execution_count": 10,
   "metadata": {},
   "outputs": [],
   "source": [
    "MODEL = \"qwen3\"\n",
    "llm = ChatOllama(\n",
    "    model = MODEL\n",
    ")"
   ]
  },
  {
   "cell_type": "code",
   "execution_count": 11,
   "metadata": {},
   "outputs": [],
   "source": [
    "llm_with_tools = llm.bind_tools([multiply])"
   ]
  },
  {
   "cell_type": "code",
   "execution_count": 12,
   "metadata": {},
   "outputs": [
    {
     "data": {
      "text/plain": [
       "AIMessage(content='<think>\\nOkay, the user said, \"Hi How are you?\" I need to respond appropriately. Let me check if there\\'s any function I should use here. The available tool is the multiply function, which takes two integers and returns their product. But the user\\'s message is just a greeting. They didn\\'t ask for any calculation or use the multiply function. So, there\\'s no need to call the multiply tool here. I should just reply with a friendly greeting. Let me make sure I\\'m not missing any hidden request in their message. Nope, it\\'s straightforward. Alright, respond normally.\\n</think>\\n\\nHello! I\\'m just a tool, but I\\'m here and ready to help. How can I assist you today? 😊', additional_kwargs={}, response_metadata={'model': 'qwen3', 'created_at': '2025-10-05T05:46:13.2540307Z', 'done': True, 'done_reason': 'stop', 'total_duration': 24691580900, 'load_duration': 124480400, 'prompt_eval_count': 158, 'prompt_eval_duration': 799415400, 'eval_count': 150, 'eval_duration': 23765989600, 'model_name': 'qwen3'}, id='run--83ce72e5-e867-40b5-ac6e-c5523962774a-0', usage_metadata={'input_tokens': 158, 'output_tokens': 150, 'total_tokens': 308})"
      ]
     },
     "execution_count": 12,
     "metadata": {},
     "output_type": "execute_result"
    }
   ],
   "source": [
    "llm_with_tools.invoke(\"Hi How are you ?\")"
   ]
  },
  {
   "cell_type": "code",
   "execution_count": 18,
   "metadata": {},
   "outputs": [
    {
     "data": {
      "text/plain": [
       "[HumanMessage(content='can you multiply 3 with 10', additional_kwargs={}, response_metadata={})]"
      ]
     },
     "execution_count": 18,
     "metadata": {},
     "output_type": "execute_result"
    }
   ],
   "source": [
    "query = \"can you multiply 3 with 10\"\n",
    "messages = [HumanMessage(query)]\n",
    "messages"
   ]
  },
  {
   "cell_type": "code",
   "execution_count": 19,
   "metadata": {},
   "outputs": [],
   "source": [
    "response = llm_with_tools.invoke(messages)"
   ]
  },
  {
   "cell_type": "code",
   "execution_count": 20,
   "metadata": {},
   "outputs": [],
   "source": [
    "messages.append(response)"
   ]
  },
  {
   "cell_type": "code",
   "execution_count": 21,
   "metadata": {},
   "outputs": [
    {
     "data": {
      "text/plain": [
       "[HumanMessage(content='can you multiply 3 with 10', additional_kwargs={}, response_metadata={}),\n",
       " AIMessage(content=\"<think>\\nOkay, the user is asking to multiply 3 by 10. Let me check the tools available. There's a function called multiply that takes two integers, a and b. The parameters are required, so I need to use that function. The arguments should be a=3 and b=10. I'll format the tool call accordingly.\\n</think>\\n\\n\", additional_kwargs={}, response_metadata={'model': 'qwen3', 'created_at': '2025-10-05T06:09:04.9224083Z', 'done': True, 'done_reason': 'stop', 'total_duration': 37014704600, 'load_duration': 5692912400, 'prompt_eval_count': 162, 'prompt_eval_duration': 13670344100, 'eval_count': 101, 'eval_duration': 17649538000, 'model_name': 'qwen3'}, id='run--24ed941e-a401-45c2-9b02-08d39dba69c4-0', tool_calls=[{'name': 'multiply', 'args': {'a': 3, 'b': 10}, 'id': '186efce2-ba98-4ce8-aa05-d6e4592b5b01', 'type': 'tool_call'}], usage_metadata={'input_tokens': 162, 'output_tokens': 101, 'total_tokens': 263})]"
      ]
     },
     "execution_count": 21,
     "metadata": {},
     "output_type": "execute_result"
    }
   ],
   "source": [
    "messages"
   ]
  },
  {
   "cell_type": "code",
   "execution_count": 15,
   "metadata": {},
   "outputs": [
    {
     "data": {
      "text/plain": [
       "{'name': 'multiply',\n",
       " 'args': {'a': 3, 'b': 10},\n",
       " 'id': 'e81c6b96-4674-4a65-8888-8d7e51c186af',\n",
       " 'type': 'tool_call'}"
      ]
     },
     "execution_count": 15,
     "metadata": {},
     "output_type": "execute_result"
    }
   ],
   "source": [
    "response.tool_calls[0]"
   ]
  },
  {
   "cell_type": "code",
   "execution_count": 22,
   "metadata": {},
   "outputs": [],
   "source": [
    "tool_result = multiply.invoke(response.tool_calls[0])"
   ]
  },
  {
   "cell_type": "code",
   "execution_count": 23,
   "metadata": {},
   "outputs": [
    {
     "data": {
      "text/plain": [
       "[HumanMessage(content='can you multiply 3 with 10', additional_kwargs={}, response_metadata={}),\n",
       " AIMessage(content=\"<think>\\nOkay, the user is asking to multiply 3 by 10. Let me check the tools available. There's a function called multiply that takes two integers, a and b. The parameters are required, so I need to use that function. The arguments should be a=3 and b=10. I'll format the tool call accordingly.\\n</think>\\n\\n\", additional_kwargs={}, response_metadata={'model': 'qwen3', 'created_at': '2025-10-05T06:09:04.9224083Z', 'done': True, 'done_reason': 'stop', 'total_duration': 37014704600, 'load_duration': 5692912400, 'prompt_eval_count': 162, 'prompt_eval_duration': 13670344100, 'eval_count': 101, 'eval_duration': 17649538000, 'model_name': 'qwen3'}, id='run--24ed941e-a401-45c2-9b02-08d39dba69c4-0', tool_calls=[{'name': 'multiply', 'args': {'a': 3, 'b': 10}, 'id': '186efce2-ba98-4ce8-aa05-d6e4592b5b01', 'type': 'tool_call'}], usage_metadata={'input_tokens': 162, 'output_tokens': 101, 'total_tokens': 263}),\n",
       " ToolMessage(content='30', name='multiply', tool_call_id='186efce2-ba98-4ce8-aa05-d6e4592b5b01')]"
      ]
     },
     "execution_count": 23,
     "metadata": {},
     "output_type": "execute_result"
    }
   ],
   "source": [
    "messages.append(tool_result)\n",
    "messages"
   ]
  },
  {
   "cell_type": "code",
   "execution_count": 24,
   "metadata": {},
   "outputs": [
    {
     "data": {
      "text/plain": [
       "AIMessage(content='<think>\\n</think>\\n\\nThe product of 3 and 10 is 30.', additional_kwargs={}, response_metadata={'model': 'qwen3', 'created_at': '2025-10-05T06:10:34.9151033Z', 'done': True, 'done_reason': 'stop', 'total_duration': 5622414900, 'load_duration': 106858100, 'prompt_eval_count': 253, 'prompt_eval_duration': 1477977600, 'eval_count': 19, 'eval_duration': 4000298600, 'model_name': 'qwen3'}, id='run--27964ce0-b5ff-4965-817f-6ef0787fc5dd-0', usage_metadata={'input_tokens': 253, 'output_tokens': 19, 'total_tokens': 272})"
      ]
     },
     "execution_count": 24,
     "metadata": {},
     "output_type": "execute_result"
    }
   ],
   "source": [
    "llm_with_tools.invoke(messages)"
   ]
  },
  {
   "cell_type": "code",
   "execution_count": 38,
   "metadata": {},
   "outputs": [],
   "source": [
    "from langchain_core.tools import InjectedToolArg\n",
    "from typing import Annotated"
   ]
  },
  {
   "cell_type": "code",
   "execution_count": 39,
   "metadata": {},
   "outputs": [],
   "source": [
    "# tool create\n",
    "\n",
    "@tool\n",
    "def get_conversion_factor(base_currency: str, target_currency: str) -> float:\n",
    "    \"\"\"\n",
    "    This function fetches the currency factor between a given base currency and a target currency\n",
    "    \"\"\"\n",
    "    url = f\"https://v6.exchangerate-api.com/v6/0de80b201608232b6797dd48/pair/{base_currency}/{target_currency}\"\n",
    "\n",
    "    response = requests.get(url=url)\n",
    "    return response.json()\n",
    "\n",
    "@tool\n",
    "def convert(base_currency_value: int, conversion_rate: Annotated[float, InjectedToolArg]) -> float:\n",
    "    \"\"\"\n",
    "    Given a currency conversion rate this function calculates the target currency value from a given base currency value\n",
    "    \"\"\"\n",
    "    return base_currency_value * conversion_rate\n",
    "\n",
    "\n"
   ]
  },
  {
   "cell_type": "code",
   "execution_count": 40,
   "metadata": {},
   "outputs": [
    {
     "data": {
      "text/plain": [
       "{'result': 'success',\n",
       " 'documentation': 'https://www.exchangerate-api.com/docs',\n",
       " 'terms_of_use': 'https://www.exchangerate-api.com/terms',\n",
       " 'time_last_update_unix': 1759622401,\n",
       " 'time_last_update_utc': 'Sun, 05 Oct 2025 00:00:01 +0000',\n",
       " 'time_next_update_unix': 1759708801,\n",
       " 'time_next_update_utc': 'Mon, 06 Oct 2025 00:00:01 +0000',\n",
       " 'base_code': 'USD',\n",
       " 'target_code': 'INR',\n",
       " 'conversion_rate': 88.7925}"
      ]
     },
     "execution_count": 40,
     "metadata": {},
     "output_type": "execute_result"
    }
   ],
   "source": [
    "get_conversion_factor.invoke({\"base_currency\": \"USD\", \"target_currency\":\"INR\"})"
   ]
  },
  {
   "cell_type": "code",
   "execution_count": 41,
   "metadata": {},
   "outputs": [
    {
     "data": {
      "text/plain": [
       "887.9250000000001"
      ]
     },
     "execution_count": 41,
     "metadata": {},
     "output_type": "execute_result"
    }
   ],
   "source": [
    "convert.invoke({\"base_currency_value\": 10, \"conversion_rate\": 88.7925})\n"
   ]
  },
  {
   "cell_type": "code",
   "execution_count": 42,
   "metadata": {},
   "outputs": [],
   "source": [
    "llm = ChatOllama(\n",
    "    model=MODEL\n",
    ")"
   ]
  },
  {
   "cell_type": "code",
   "execution_count": 43,
   "metadata": {},
   "outputs": [],
   "source": [
    "llm_with_tools = llm.bind_tools([get_conversion_factor, convert])"
   ]
  },
  {
   "cell_type": "code",
   "execution_count": 55,
   "metadata": {},
   "outputs": [],
   "source": [
    "messages = [HumanMessage(\"What is the conversion factor between INR and USD, and based on that can you convert 10 inr to usd\")]"
   ]
  },
  {
   "cell_type": "code",
   "execution_count": 56,
   "metadata": {},
   "outputs": [],
   "source": [
    "ai_message = llm_with_tools.invoke(messages)"
   ]
  },
  {
   "cell_type": "code",
   "execution_count": 57,
   "metadata": {},
   "outputs": [],
   "source": [
    "messages.append(ai_message)"
   ]
  },
  {
   "cell_type": "code",
   "execution_count": 58,
   "metadata": {},
   "outputs": [
    {
     "data": {
      "text/plain": [
       "[{'name': 'get_conversion_factor',\n",
       "  'args': {'base_currency': 'INR', 'target_currency': 'USD'},\n",
       "  'id': '1db21aae-ccc9-4749-93f4-1a9ceb677cfb',\n",
       "  'type': 'tool_call'},\n",
       " {'name': 'convert',\n",
       "  'args': {'base_currency_value': 10},\n",
       "  'id': '052f428b-5e54-4aaa-baeb-dfde7375447c',\n",
       "  'type': 'tool_call'}]"
      ]
     },
     "execution_count": 58,
     "metadata": {},
     "output_type": "execute_result"
    }
   ],
   "source": [
    "ai_message.tool_calls"
   ]
  },
  {
   "cell_type": "code",
   "execution_count": 59,
   "metadata": {},
   "outputs": [
    {
     "data": {
      "text/plain": [
       "[HumanMessage(content='What is the conversion factor between INR and USD, and based on that can you convert 10 inr to usd', additional_kwargs={}, response_metadata={}),\n",
       " AIMessage(content='<think>\\nOkay, let\\'s tackle the user\\'s question. They want two things: the conversion factor between INR and USD, and then converting 10 INR to USD using that factor.\\n\\nFirst, I need to check if there\\'s a function to get the conversion factor. The tools provided include \\'get_conversion_factor\\' which takes base_currency and target_currency. So I should call that with INR and USD. \\n\\nOnce I have the factor, the next step is to use the \\'convert\\' function. The \\'convert\\' function requires the base_currency_value, which in this case is 10 INR. But wait, the \\'convert\\' function\\'s description says it calculates the target currency value from the base. So if the conversion factor is, say, 0.012 (meaning 1 INR = 0.012 USD), then 10 INR would be 10 * 0.012 = 0.12 USD. \\n\\nBut I need to make sure that the \\'convert\\' function actually uses the conversion factor. Wait, looking at the parameters for \\'convert\\', it only takes \\'base_currency_value\\' as an integer. Oh, maybe the \\'convert\\' function uses the previously fetched conversion factor from \\'get_conversion_factor\\'? Or does it need the factor as an argument? Wait, the parameters for \\'convert\\' don\\'t include the conversion factor. That\\'s a problem. Wait, the description says \"Given a currency conversion rate this function calculates...\" but the parameters only have \\'base_currency_value\\'. That seems incomplete. Maybe there\\'s an implicit assumption that the conversion rate is already known or passed through another means. But according to the provided tools, the \\'convert\\' function only takes the base value. That might be an error in the tool definition. But since I have to work with what\\'s given, perhaps the \\'convert\\' function uses the conversion factor from the previous step. \\n\\nWait, but in the tools, the \\'convert\\' function\\'s parameters don\\'t include the conversion rate. That\\'s confusing. Maybe the \\'convert\\' function is designed to use the conversion factor obtained from \\'get_conversion_factor\\'? But how would it know which rate to use unless it\\'s stored somewhere. Since the user is asking for a conversion after getting the factor, perhaps the \\'convert\\' function is supposed to take the base value and the conversion factor. But according to the tool definition, it\\'s not. So maybe there\\'s a mistake in the tool definitions. But as the assistant, I have to follow the given functions. \\n\\nWait, maybe the \\'convert\\' function is supposed to use the conversion factor from the \\'get_conversion_factor\\' function. But since the parameters don\\'t include the rate, perhaps the \\'convert\\' function is designed to use the rate that was previously retrieved. But how would that work in practice? Maybe the functions are part of a system where the conversion factor is stored, and the \\'convert\\' function uses that stored value. But in the context of this problem, the assistant is supposed to call the functions step by step. \\n\\nSo, the user\\'s first request is to get the conversion factor between INR and USD. So I need to call \\'get_conversion_factor\\' with base_currency as INR and target_currency as USD. Then, once I have that factor, I can use the \\'convert\\' function with the base_currency_value of 10. But wait, the \\'convert\\' function\\'s parameters don\\'t include the conversion rate. So perhaps the \\'convert\\' function is supposed to use the rate from the previous step. But since the parameters are not provided, maybe the \\'convert\\' function is designed to take the base value and the rate as parameters, but the tool definition is incorrect. \\n\\nThis is a bit confusing. But given the tool definitions, I have to proceed. The user\\'s question requires two steps: first, get the conversion factor, then use that factor to convert 10 INR to USD. So I\\'ll first call \\'get_conversion_factor\\' with INR and USD. Then, assuming that the \\'convert\\' function uses that rate, I\\'ll call \\'convert\\' with base_currency_value 10. However, the \\'convert\\' function\\'s parameters don\\'t include the rate, so maybe the rate is a parameter that\\'s not listed here. But according to the tool definition, the \\'convert\\' function\\'s parameters only have \\'base_currency_value\\'. \\n\\nThis seems like an inconsistency. But perhaps the \\'convert\\' function is designed to use the conversion factor from the \\'get_conversion_factor\\' function, which is stored in some context. Since the user is asking for a step-by-step process, I\\'ll proceed by first getting the conversion factor and then using the \\'convert\\' function with the base value. Even though the tool definition for \\'convert\\' doesn\\'t include the rate, maybe it\\'s implied that the rate is known. \\n\\nSo, the first tool call is to get_conversion_factor with base_currency INR and target_currency USD. Then, the second tool call is to convert with base_currency_value 10. The actual calculation would be 10 multiplied by the conversion factor. But since the \\'convert\\' function\\'s parameters don\\'t include the rate, perhaps the function is designed to use the rate from the previous step. \\n\\nTherefore, the steps are: call get_conversion_factor, then call convert with the base value. The answer would then be the result of the convert function, which would be the converted amount.\\n</think>\\n\\n', additional_kwargs={}, response_metadata={'model': 'qwen3', 'created_at': '2025-10-05T07:53:55.0301116Z', 'done': True, 'done_reason': 'stop', 'total_duration': 285408449700, 'load_duration': 5833267500, 'prompt_eval_count': 251, 'prompt_eval_duration': 20505073900, 'eval_count': 1176, 'eval_duration': 259068681400, 'model_name': 'qwen3'}, id='run--1ba28d4b-673f-41ee-a250-88d74efbade8-0', tool_calls=[{'name': 'get_conversion_factor', 'args': {'base_currency': 'INR', 'target_currency': 'USD'}, 'id': '1db21aae-ccc9-4749-93f4-1a9ceb677cfb', 'type': 'tool_call'}, {'name': 'convert', 'args': {'base_currency_value': 10}, 'id': '052f428b-5e54-4aaa-baeb-dfde7375447c', 'type': 'tool_call'}], usage_metadata={'input_tokens': 251, 'output_tokens': 1176, 'total_tokens': 1427})]"
      ]
     },
     "execution_count": 59,
     "metadata": {},
     "output_type": "execute_result"
    }
   ],
   "source": [
    "messages"
   ]
  },
  {
   "cell_type": "code",
   "execution_count": 60,
   "metadata": {},
   "outputs": [],
   "source": [
    "import json\n",
    "for tool_call in ai_message.tool_calls:\n",
    "    # execute the first tool and get the value of conversion rate\n",
    "    if tool_call[\"name\"] == \"get_conversion_factor\":\n",
    "        tool_message1 = get_conversion_factor.invoke(tool_call)\n",
    "        # fetch this conversion rate\n",
    "        conversion_rate = json.loads(tool_message1.content)['conversion_rate']\n",
    "        # append this tool message to message list\n",
    "        messages.append(tool_message1)\n",
    "    \n",
    "    if tool_call[\"name\"] == \"convert\":\n",
    "        # fetch the current arg\n",
    "        tool_call[\"args\"][\"conversion_rate\"] = conversion_rate\n",
    "        tool_message2 = convert.invoke(tool_call)\n",
    "        messages.append(tool_message2)"
   ]
  },
  {
   "cell_type": "code",
   "execution_count": 61,
   "metadata": {},
   "outputs": [
    {
     "data": {
      "text/plain": [
       "[HumanMessage(content='What is the conversion factor between INR and USD, and based on that can you convert 10 inr to usd', additional_kwargs={}, response_metadata={}),\n",
       " AIMessage(content='<think>\\nOkay, let\\'s tackle the user\\'s question. They want two things: the conversion factor between INR and USD, and then converting 10 INR to USD using that factor.\\n\\nFirst, I need to check if there\\'s a function to get the conversion factor. The tools provided include \\'get_conversion_factor\\' which takes base_currency and target_currency. So I should call that with INR and USD. \\n\\nOnce I have the factor, the next step is to use the \\'convert\\' function. The \\'convert\\' function requires the base_currency_value, which in this case is 10 INR. But wait, the \\'convert\\' function\\'s description says it calculates the target currency value from the base. So if the conversion factor is, say, 0.012 (meaning 1 INR = 0.012 USD), then 10 INR would be 10 * 0.012 = 0.12 USD. \\n\\nBut I need to make sure that the \\'convert\\' function actually uses the conversion factor. Wait, looking at the parameters for \\'convert\\', it only takes \\'base_currency_value\\' as an integer. Oh, maybe the \\'convert\\' function uses the previously fetched conversion factor from \\'get_conversion_factor\\'? Or does it need the factor as an argument? Wait, the parameters for \\'convert\\' don\\'t include the conversion factor. That\\'s a problem. Wait, the description says \"Given a currency conversion rate this function calculates...\" but the parameters only have \\'base_currency_value\\'. That seems incomplete. Maybe there\\'s an implicit assumption that the conversion rate is already known or passed through another means. But according to the provided tools, the \\'convert\\' function only takes the base value. That might be an error in the tool definition. But since I have to work with what\\'s given, perhaps the \\'convert\\' function uses the conversion factor from the previous step. \\n\\nWait, but in the tools, the \\'convert\\' function\\'s parameters don\\'t include the conversion rate. That\\'s confusing. Maybe the \\'convert\\' function is designed to use the conversion factor obtained from \\'get_conversion_factor\\'? But how would it know which rate to use unless it\\'s stored somewhere. Since the user is asking for a conversion after getting the factor, perhaps the \\'convert\\' function is supposed to take the base value and the conversion factor. But according to the tool definition, it\\'s not. So maybe there\\'s a mistake in the tool definitions. But as the assistant, I have to follow the given functions. \\n\\nWait, maybe the \\'convert\\' function is supposed to use the conversion factor from the \\'get_conversion_factor\\' function. But since the parameters don\\'t include the rate, perhaps the \\'convert\\' function is designed to use the rate that was previously retrieved. But how would that work in practice? Maybe the functions are part of a system where the conversion factor is stored, and the \\'convert\\' function uses that stored value. But in the context of this problem, the assistant is supposed to call the functions step by step. \\n\\nSo, the user\\'s first request is to get the conversion factor between INR and USD. So I need to call \\'get_conversion_factor\\' with base_currency as INR and target_currency as USD. Then, once I have that factor, I can use the \\'convert\\' function with the base_currency_value of 10. But wait, the \\'convert\\' function\\'s parameters don\\'t include the conversion rate. So perhaps the \\'convert\\' function is supposed to use the rate from the previous step. But since the parameters are not provided, maybe the \\'convert\\' function is designed to take the base value and the rate as parameters, but the tool definition is incorrect. \\n\\nThis is a bit confusing. But given the tool definitions, I have to proceed. The user\\'s question requires two steps: first, get the conversion factor, then use that factor to convert 10 INR to USD. So I\\'ll first call \\'get_conversion_factor\\' with INR and USD. Then, assuming that the \\'convert\\' function uses that rate, I\\'ll call \\'convert\\' with base_currency_value 10. However, the \\'convert\\' function\\'s parameters don\\'t include the rate, so maybe the rate is a parameter that\\'s not listed here. But according to the tool definition, the \\'convert\\' function\\'s parameters only have \\'base_currency_value\\'. \\n\\nThis seems like an inconsistency. But perhaps the \\'convert\\' function is designed to use the conversion factor from the \\'get_conversion_factor\\' function, which is stored in some context. Since the user is asking for a step-by-step process, I\\'ll proceed by first getting the conversion factor and then using the \\'convert\\' function with the base value. Even though the tool definition for \\'convert\\' doesn\\'t include the rate, maybe it\\'s implied that the rate is known. \\n\\nSo, the first tool call is to get_conversion_factor with base_currency INR and target_currency USD. Then, the second tool call is to convert with base_currency_value 10. The actual calculation would be 10 multiplied by the conversion factor. But since the \\'convert\\' function\\'s parameters don\\'t include the rate, perhaps the function is designed to use the rate from the previous step. \\n\\nTherefore, the steps are: call get_conversion_factor, then call convert with the base value. The answer would then be the result of the convert function, which would be the converted amount.\\n</think>\\n\\n', additional_kwargs={}, response_metadata={'model': 'qwen3', 'created_at': '2025-10-05T07:53:55.0301116Z', 'done': True, 'done_reason': 'stop', 'total_duration': 285408449700, 'load_duration': 5833267500, 'prompt_eval_count': 251, 'prompt_eval_duration': 20505073900, 'eval_count': 1176, 'eval_duration': 259068681400, 'model_name': 'qwen3'}, id='run--1ba28d4b-673f-41ee-a250-88d74efbade8-0', tool_calls=[{'name': 'get_conversion_factor', 'args': {'base_currency': 'INR', 'target_currency': 'USD'}, 'id': '1db21aae-ccc9-4749-93f4-1a9ceb677cfb', 'type': 'tool_call'}, {'name': 'convert', 'args': {'base_currency_value': 10, 'conversion_rate': 0.01126}, 'id': '052f428b-5e54-4aaa-baeb-dfde7375447c', 'type': 'tool_call'}], usage_metadata={'input_tokens': 251, 'output_tokens': 1176, 'total_tokens': 1427}),\n",
       " ToolMessage(content='{\"result\": \"success\", \"documentation\": \"https://www.exchangerate-api.com/docs\", \"terms_of_use\": \"https://www.exchangerate-api.com/terms\", \"time_last_update_unix\": 1759622401, \"time_last_update_utc\": \"Sun, 05 Oct 2025 00:00:01 +0000\", \"time_next_update_unix\": 1759708801, \"time_next_update_utc\": \"Mon, 06 Oct 2025 00:00:01 +0000\", \"base_code\": \"INR\", \"target_code\": \"USD\", \"conversion_rate\": 0.01126}', name='get_conversion_factor', tool_call_id='1db21aae-ccc9-4749-93f4-1a9ceb677cfb'),\n",
       " ToolMessage(content='0.11259999999999999', name='convert', tool_call_id='052f428b-5e54-4aaa-baeb-dfde7375447c')]"
      ]
     },
     "execution_count": 61,
     "metadata": {},
     "output_type": "execute_result"
    }
   ],
   "source": [
    "messages"
   ]
  },
  {
   "cell_type": "code",
   "execution_count": 62,
   "metadata": {},
   "outputs": [
    {
     "data": {
      "text/plain": [
       "\"<think>\\nOkay, let me process this step by step. The user asked for two things: the conversion factor between INR and USD, and then converting 10 INR to USD.\\n\\nFirst, I called the get_conversion_factor function with INR as the base and USD as the target. The response came back with a conversion rate of 0.01126. That means 1 INR equals 0.01126 USD. \\n\\nNext, the user wanted to convert 10 INR to USD. I used the convert function with the base_currency_value set to 10. The tool response gave 0.11259999999999999, which is approximately 0.1126 USD. \\n\\nSo, putting it all together, the conversion factor is 0.01126, and 10 INR is about 0.1126 USD. I should present this clearly, making sure to mention both parts of the user's request and round the numbers for readability.\\n</think>\\n\\nThe conversion factor between INR (Indian Rupee) and USD (US Dollar) is **0.01126**, meaning 1 INR equals 0.01126 USD.\\n\\nUsing this rate, **10 INR** converts to:  \\n**0.1126 USD** (rounded to 4 decimal places).  \\n\\nLet me know if you need further assistance! 😊\""
      ]
     },
     "execution_count": 62,
     "metadata": {},
     "output_type": "execute_result"
    }
   ],
   "source": [
    "llm_with_tools.invoke(messages).content"
   ]
  },
  {
   "cell_type": "code",
   "execution_count": null,
   "metadata": {},
   "outputs": [],
   "source": []
  }
 ],
 "metadata": {
  "kernelspec": {
   "display_name": "genai_projects",
   "language": "python",
   "name": "python3"
  },
  "language_info": {
   "codemirror_mode": {
    "name": "ipython",
    "version": 3
   },
   "file_extension": ".py",
   "mimetype": "text/x-python",
   "name": "python",
   "nbconvert_exporter": "python",
   "pygments_lexer": "ipython3",
   "version": "3.11.13"
  }
 },
 "nbformat": 4,
 "nbformat_minor": 2
}
