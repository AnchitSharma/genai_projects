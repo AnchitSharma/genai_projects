{
 "cells": [
  {
   "cell_type": "code",
   "execution_count": 13,
   "metadata": {},
   "outputs": [],
   "source": [
    "from langchain_community.tools import DuckDuckGoSearchRun\n",
    "from langchain_ollama import ChatOllama"
   ]
  },
  {
   "cell_type": "code",
   "execution_count": null,
   "metadata": {},
   "outputs": [],
   "source": [
    "search_tool = DuckDuckGoSearchRun()\n",
    "results = search_tool.invoke(\"top news in india today\")"
   ]
  },
  {
   "cell_type": "code",
   "execution_count": 12,
   "metadata": {},
   "outputs": [
    {
     "data": {
      "text/plain": [
       "'3 hours ago — 14 Killed As Heavy Rain Triggers Landslides In Darjeeling; Sikkim Disconnected · Air India Amritsar-UK Flight Lands Safely After RAT Deploys In Final Approach, ... Top - India - news - today ... info@truescoopnews.com ... Copyright © 2025 TrueScoop News . ... News 24 is your stop for those who are inquisitive enough to keep abreast with the ... Today News Headlines in India : Stay Updated with DLSNews24 ... News 24 is your stop for those who are inquisitive enough to keep abreast with the ... Today News Headlines in India : Stay Updated with DLSNews24 Reuters India News | Reuters India Top News | Reuters India Today News Get the Latest Reuters India News from Business, Finance, Technology, Sports ...'"
      ]
     },
     "execution_count": 12,
     "metadata": {},
     "output_type": "execute_result"
    }
   ],
   "source": [
    "results"
   ]
  },
  {
   "cell_type": "code",
   "execution_count": 14,
   "metadata": {},
   "outputs": [],
   "source": [
    "MODEL = \"qwen3\"\n",
    "llm = ChatOllama(\n",
    "    model = MODEL\n",
    ")"
   ]
  },
  {
   "cell_type": "code",
   "execution_count": 15,
   "metadata": {},
   "outputs": [
    {
     "data": {
      "text/plain": [
       "AIMessage(content='<think>\\nOkay, the user sent \"Hi\". I need to respond appropriately. Since it\\'s a greeting, I should acknowledge it and offer assistance. Let me keep it friendly and open-ended. Maybe say something like, \"Hello! How can I assist you today?\" That should work. No need for any other details unless they ask for more. Keep it simple and welcoming.\\n</think>\\n\\nHello! How can I assist you today? 😊', additional_kwargs={}, response_metadata={'model': 'qwen3', 'created_at': '2025-10-05T10:11:56.7722106Z', 'done': True, 'done_reason': 'stop', 'total_duration': 25614681200, 'load_duration': 7173742000, 'prompt_eval_count': 9, 'prompt_eval_duration': 1019237200, 'eval_count': 90, 'eval_duration': 17408912700, 'model_name': 'qwen3'}, id='run--8656d80d-6504-47ea-94a1-864f19f91a9e-0', usage_metadata={'input_tokens': 9, 'output_tokens': 90, 'total_tokens': 99})"
      ]
     },
     "execution_count": 15,
     "metadata": {},
     "output_type": "execute_result"
    }
   ],
   "source": [
    "llm.invoke(\"Hi\")"
   ]
  },
  {
   "cell_type": "code",
   "execution_count": null,
   "metadata": {},
   "outputs": [],
   "source": []
  }
 ],
 "metadata": {
  "kernelspec": {
   "display_name": "genai_projects",
   "language": "python",
   "name": "python3"
  },
  "language_info": {
   "codemirror_mode": {
    "name": "ipython",
    "version": 3
   },
   "file_extension": ".py",
   "mimetype": "text/x-python",
   "name": "python",
   "nbconvert_exporter": "python",
   "pygments_lexer": "ipython3",
   "version": "3.11.13"
  }
 },
 "nbformat": 4,
 "nbformat_minor": 2
}
